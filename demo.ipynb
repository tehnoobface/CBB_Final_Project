{
 "cells": [
  {
   "cell_type": "markdown",
   "metadata": {},
   "source": [
    "Though it is a python package, the bracket manager is called from and deployed entirely on the linux command line.\n",
    "\n",
    "The pip package manager is used to install the bracket_package. The package requires python 3.7>=, numpy>=1.25.2, \n",
    "pandas>=2.1.2, seaborn>=0.13.0, and setuptools>=68.0.0.\n",
    "\n",
    "Additionally, the repository containing the python code and executable script for the bracket_package - bracket - and all cleaned test data can be cloned with the following code:"
   ]
  },
  {
   "cell_type": "code",
   "execution_count": null,
   "metadata": {
    "vscode": {
     "languageId": "powershell"
    }
   },
   "outputs": [],
   "source": [
    "pip install \"git+https://github.com/tehnoobface/CBB_Final_Project.git\"\n",
    "\n",
    "git clone https://github.com/tehnoobface/CBB_Final_Project.git"
   ]
  },
  {
   "cell_type": "markdown",
   "metadata": {},
   "source": [
    "Following, navigate to the directory containing \"bracket\" and run the following command:"
   ]
  },
  {
   "cell_type": "code",
   "execution_count": null,
   "metadata": {
    "vscode": {
     "languageId": "powershell"
    }
   },
   "outputs": [],
   "source": [
    "python bracket"
   ]
  },
  {
   "cell_type": "markdown",
   "metadata": {},
   "source": [
    "From there, the system will clear your screen and follow with a series of prompts:"
   ]
  },
  {
   "cell_type": "code",
   "execution_count": null,
   "metadata": {
    "vscode": {
     "languageId": "powershell"
    }
   },
   "outputs": [],
   "source": [
    "Choose a dataset. Data found in /data, with 2020 test dataset being ../data/cbb20.csv : data/cbb20.csv\n",
    "Select Ranking Method; POWER, RANK, WIN, SEED? Win\n",
    "Enter the Playoff Bracket Year (ex. '2020'): 2020\n",
    "\n",
    "Round 1:\n",
    "        Baylor vs Texas Southern -> Winner: Baylor\n",
    "        Cincinnati vs VCU -> Winner: Cincinnati\n",
    "        Illinois vs East Tennessee St. -> Winner: East Tennessee St.\n",
    "        Auburn vs College of Charleston -> Winner: Auburn\n",
    "        Iowa vs Mississippi St. -> Winner: Mississippi St.\n",
    "        Seton Hall vs Bowling Green -> Winner: Bowling Green\n",
    "        Ohio St. vs Northern Iowa -> Winner: Northern Iowa\n",
    "        Louisville vs Murray St. -> Winner: Louisville\n",
    "Round 2:\n",
    "\n",
    "...\n",
    "\n",
    "Final Four: East Tennessee St., Vermont, Gonzaga, Liberty\n",
    "\n",
    "Playoff Finals: East Tennessee St. vs Gonzaga\n",
    "\n",
    "NCAA D1 Division Champs: East Tennessee St."
   ]
  },
  {
   "cell_type": "markdown",
   "metadata": {},
   "source": [
    "In this demo, the package creates the playoff bracket selecting winners based on wins. The output has been shortened to only show the first Round of the southern region (there are 4 regions that return a winner to compete in the final four), and the final four playoff results."
   ]
  }
 ],
 "metadata": {
  "language_info": {
   "name": "python"
  }
 },
 "nbformat": 4,
 "nbformat_minor": 2
}
