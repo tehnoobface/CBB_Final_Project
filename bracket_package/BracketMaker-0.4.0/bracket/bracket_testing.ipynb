{
 "cells": [
  {
   "cell_type": "code",
   "execution_count": 27,
   "metadata": {},
   "outputs": [],
   "source": [
    "import pandas as pd\n",
    "import numpy as np\n",
    "import matplotlib.pyplot as plt\n",
    "import seaborn as sns\n",
    "import sys\n",
    "import os\n",
    "import math"
   ]
  },
  {
   "cell_type": "code",
   "execution_count": 12,
   "metadata": {},
   "outputs": [],
   "source": [
    "def getData():\n",
    "    #teams = pd.read_csv('data/cbb20.csv')\n",
    "    #return teams\n",
    "    print(\"Which Dataset? Test set is data/cbb20.csv \", end='')\n",
    "    teams = pd.read_csv(input())    # Input path to (and including) the dataset\n",
    "    return teams\n",
    "# getData()\n",
    "\n",
    "# For now:\n",
    "teams = pd.read_csv('../../../data/cbb20.csv')"
   ]
  },
  {
   "cell_type": "code",
   "execution_count": 22,
   "metadata": {},
   "outputs": [],
   "source": [
    "def getWins(teams):\n",
    "    wins = teams['W']\n",
    "    print(\"Win test! \", end='')\n",
    "    return wins"
   ]
  },
  {
   "cell_type": "code",
   "execution_count": 23,
   "metadata": {},
   "outputs": [],
   "source": [
    "def getPower(teams):\n",
    "    power = teams['BARTHAG']\n",
    "    print(\"Power test! \", end='')\n",
    "    return power"
   ]
  },
  {
   "cell_type": "code",
   "execution_count": 24,
   "metadata": {},
   "outputs": [],
   "source": [
    "def getRank(teams):\n",
    "    rank = teams['RK']\n",
    "    print(\"Rank test! \", end='')\n",
    "    return rank"
   ]
  },
  {
   "cell_type": "code",
   "execution_count": 25,
   "metadata": {},
   "outputs": [],
   "source": [
    "def getMethod(teams):\n",
    "    print(\"Select Ranking Method; POWER, RANK, or WIN? \", end='')\n",
    "    if input() == 'POWER' or 'power' or 'Power':\n",
    "        method = getPower(teams)\n",
    "    elif input() == 'RANK' or 'rank' or 'Rank':\n",
    "        method = getRank(teams)\n",
    "    elif input() == 'WIN' or 'win' or 'Win':\n",
    "        method = getWins(teams)\n",
    "    else:\n",
    "        print(\"Invalid input. Try again.\")\n",
    "        getMethod(teams)"
   ]
  },
  {
   "cell_type": "code",
   "execution_count": 26,
   "metadata": {},
   "outputs": [
    {
     "name": "stdout",
     "output_type": "stream",
     "text": [
      "Which Dataset? Test set is data/cbb20.csv "
     ]
    },
    {
     "name": "stdout",
     "output_type": "stream",
     "text": [
      "Select Ranking Method; POWER, RANK, or WIN? Power test! "
     ]
    }
   ],
   "source": [
    "def Main():\n",
    "    getData()\n",
    "    getMethod(teams)\n",
    "\n",
    "Main()"
   ]
  },
  {
   "cell_type": "code",
   "execution_count": 31,
   "metadata": {},
   "outputs": [
    {
     "name": "stdout",
     "output_type": "stream",
     "text": [
      "                                Kansas vs Baylor -> Winner: Kansas\n",
      "                                Gonzaga vs Dayton -> Winner: Gonzaga\n",
      "                                Michigan St. vs Duke -> Winner: Duke\n",
      "                                Creighton vs Ohio St. -> Winner: Creighton\n",
      "                                Louisville vs San Diego St. -> Winner: San Diego St.\n",
      "                                Villanova vs Houston -> Winner: Villanova\n",
      "                                Arizona vs Michigan -> Winner: Arizona\n",
      "                                Penn St. vs West Virginia -> Winner: West Virginia\n",
      "                                BYU vs Oregon -> Winner: Oregon\n",
      "                                Wisconsin vs Florida St. -> Winner: Florida St.\n",
      "                                Seton Hall vs Texas Tech -> Winner: Seton Hall\n",
      "                                Purdue vs Butler -> Winner: Butler\n",
      "                                Providence vs Maryland -> Winner: Maryland\n",
      "                                Minnesota vs Kentucky -> Winner: Kentucky\n",
      "                                Illinois vs Rutgers -> Winner: Illinois\n",
      "                                Iowa vs Florida -> Winner: Iowa\n",
      "                                Marquette vs Virginia -> Winner: Virginia\n",
      "                                Wichita St. vs Indiana -> Winner: Wichita St.\n",
      "                                Oklahoma vs Utah St. -> Winner: Utah St.\n",
      "                                Auburn vs Xavier -> Winner: Auburn\n",
      "                                Saint Mary's vs Colorado -> Winner: Saint Mary's\n",
      "                                LSU vs Syracuse -> Winner: LSU\n",
      "                                Stanford vs North Carolina St. -> Winner: North Carolina St.\n",
      "                                Cincinnati vs Richmond -> Winner: Richmond\n",
      "                                Mississippi St. vs Saint Louis -> Winner: Saint Louis\n",
      "                                Georgia Tech vs Arkansas -> Winner: Arkansas\n",
      "                                Oklahoma St. vs Washington -> Winner: Oklahoma St.\n",
      "                                Notre Dame vs Connecticut -> Winner: Notre Dame\n",
      "                                St. John's vs USC -> Winner: USC\n",
      "                                Arizona St. vs Alabama -> Winner: Arizona St.\n",
      "                                South Carolina vs Tennessee -> Winner: South Carolina\n",
      "                                Memphis vs Northern Iowa -> Winner: Northern Iowa\n",
      "                Kansas vs Gonzaga -> Winner: Gonzaga\n",
      "                Duke vs Creighton -> Winner: Duke\n",
      "                San Diego St. vs Villanova -> Winner: San Diego St.\n",
      "                Arizona vs West Virginia -> Winner: West Virginia\n",
      "                Oregon vs Florida St. -> Winner: Florida St.\n",
      "                Seton Hall vs Butler -> Winner: Butler\n",
      "                Maryland vs Kentucky -> Winner: Kentucky\n",
      "                Illinois vs Iowa -> Winner: Illinois\n",
      "                Virginia vs Wichita St. -> Winner: Wichita St.\n",
      "                Utah St. vs Auburn -> Winner: Utah St.\n",
      "                Saint Mary's vs LSU -> Winner: Saint Mary's\n",
      "                North Carolina St. vs Richmond -> Winner: Richmond\n",
      "                Saint Louis vs Arkansas -> Winner: Saint Louis\n",
      "                Oklahoma St. vs Notre Dame -> Winner: Notre Dame\n",
      "                USC vs Arizona St. -> Winner: USC\n",
      "                South Carolina vs Northern Iowa -> Winner: Northern Iowa\n",
      "        Gonzaga vs Duke -> Winner: Gonzaga\n",
      "        San Diego St. vs West Virginia -> Winner: San Diego St.\n",
      "        Florida St. vs Butler -> Winner: Florida St.\n",
      "        Kentucky vs Illinois -> Winner: Kentucky\n",
      "        Wichita St. vs Utah St. -> Winner: Utah St.\n",
      "        Saint Mary's vs Richmond -> Winner: Saint Mary's\n",
      "        Saint Louis vs Notre Dame -> Winner: Saint Louis\n",
      "        USC vs Northern Iowa -> Winner: Northern Iowa\n",
      "    Gonzaga vs San Diego St. -> Winner: Gonzaga\n",
      "    Florida St. vs Kentucky -> Winner: Florida St.\n",
      "    Utah St. vs Saint Mary's -> Winner: Utah St.\n",
      "    Saint Louis vs Northern Iowa -> Winner: Northern Iowa\n",
      "  Gonzaga vs Florida St. -> Winner: Gonzaga\n",
      "  Utah St. vs Northern Iowa -> Winner: Utah St.\n",
      " Gonzaga vs Utah St. -> Winner: Gonzaga\n"
     ]
    }
   ],
   "source": [
    "def generate_bracket(teams):\n",
    "    num_teams = len(teams['TEAM'])  # Number of teams in the bracket\n",
    "    num_rounds = int(6)\n",
    "\n",
    "    for round_num in range(num_rounds):\n",
    "        round_teams = num_teams // (2 ** (round_num + 1))\n",
    "        spacing = \" \" * (2 ** (num_rounds - round_num - 1))  # Adjust spacing\n",
    "\n",
    "        winners = []  # Store winners for the next round\n",
    "\n",
    "        for i in range(round_teams):\n",
    "            team1 = teams.iloc[i * 2]\n",
    "            team2 = teams.iloc[i * 2 + 1]\n",
    "            winner = team1 if team1[\"RK\"] > team2[\"RK\"] else team2\n",
    "            winners.append(winner)\n",
    "            print(f\"{spacing}{team1['TEAM']} vs {team2['TEAM']} -> Winner: {winner['TEAM']}\")\n",
    "        teams = pd.DataFrame(winners)\n",
    "# Grab top 64 teams based on \"RK\"\n",
    "teams = teams.sort_values(by=\"RK\", ascending=True).head(64)\n",
    "\n",
    "generate_bracket(teams)\n"
   ]
  }
 ],
 "metadata": {
  "kernelspec": {
   "display_name": "stat386",
   "language": "python",
   "name": "python3"
  },
  "language_info": {
   "codemirror_mode": {
    "name": "ipython",
    "version": 3
   },
   "file_extension": ".py",
   "mimetype": "text/x-python",
   "name": "python",
   "nbconvert_exporter": "python",
   "pygments_lexer": "ipython3",
   "version": "3.10.12"
  }
 },
 "nbformat": 4,
 "nbformat_minor": 2
}
