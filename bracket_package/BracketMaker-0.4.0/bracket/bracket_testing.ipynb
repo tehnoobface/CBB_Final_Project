{
 "cells": [
  {
   "cell_type": "code",
   "execution_count": 3,
   "metadata": {},
   "outputs": [],
   "source": [
    "import pandas as pd\n",
    "import numpy as np\n",
    "import matplotlib.pyplot as plt\n",
    "import seaborn as sns\n",
    "import sys\n",
    "import os\n",
    "import math"
   ]
  },
  {
   "cell_type": "code",
   "execution_count": 12,
   "metadata": {},
   "outputs": [],
   "source": [
    "def getData():\n",
    "    #teams = pd.read_csv('data/cbb20.csv')\n",
    "    #return teams\n",
    "    print(\"Which Dataset? Test set is data/cbb20.csv \", end='')\n",
    "    teams = pd.read_csv(input())    # Input path to (and including) the dataset\n",
    "    return teams\n",
    "# getData()\n",
    "\n",
    "# For now:\n",
    "teams = pd.read_csv('../../../data/cbb20.csv')"
   ]
  },
  {
   "cell_type": "code",
   "execution_count": 22,
   "metadata": {},
   "outputs": [],
   "source": [
    "def getWins(teams):\n",
    "    wins = teams['W']\n",
    "    print(\"Win test! \", end='')\n",
    "    return wins"
   ]
  },
  {
   "cell_type": "code",
   "execution_count": 23,
   "metadata": {},
   "outputs": [],
   "source": [
    "def getPower(teams):\n",
    "    power = teams['BARTHAG']\n",
    "    print(\"Power test! \", end='')\n",
    "    return power"
   ]
  },
  {
   "cell_type": "code",
   "execution_count": 24,
   "metadata": {},
   "outputs": [],
   "source": [
    "def getRank(teams):\n",
    "    rank = teams['RK']\n",
    "    print(\"Rank test! \", end='')\n",
    "    return rank"
   ]
  },
  {
   "cell_type": "code",
   "execution_count": 25,
   "metadata": {},
   "outputs": [],
   "source": [
    "def getMethod(teams):\n",
    "    print(\"Select Ranking Method; POWER, RANK, or WIN? \", end='')\n",
    "    if input() == 'POWER' or 'power' or 'Power':\n",
    "        method = getPower(teams)\n",
    "    elif input() == 'RANK' or 'rank' or 'Rank':\n",
    "        method = getRank(teams)\n",
    "    elif input() == 'WIN' or 'win' or 'Win':\n",
    "        method = getWins(teams)\n",
    "    else:\n",
    "        print(\"Invalid input. Try again.\")\n",
    "        getMethod(teams)"
   ]
  },
  {
   "cell_type": "code",
   "execution_count": 26,
   "metadata": {},
   "outputs": [
    {
     "name": "stdout",
     "output_type": "stream",
     "text": [
      "Which Dataset? Test set is data/cbb20.csv "
     ]
    },
    {
     "name": "stdout",
     "output_type": "stream",
     "text": [
      "Select Ranking Method; POWER, RANK, or WIN? Power test! "
     ]
    }
   ],
   "source": [
    "def Main():\n",
    "    getData()\n",
    "    getMethod(teams)\n",
    "\n",
    "Main()"
   ]
  }
 ],
 "metadata": {
  "kernelspec": {
   "display_name": "stat386",
   "language": "python",
   "name": "python3"
  },
  "language_info": {
   "codemirror_mode": {
    "name": "ipython",
    "version": 3
   },
   "file_extension": ".py",
   "mimetype": "text/x-python",
   "name": "python",
   "nbconvert_exporter": "python",
   "pygments_lexer": "ipython3",
   "version": "3.10.12"
  }
 },
 "nbformat": 4,
 "nbformat_minor": 2
}
